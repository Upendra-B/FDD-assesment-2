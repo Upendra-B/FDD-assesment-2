{
 "cells": [
  {
   "cell_type": "markdown",
   "id": "f7813558",
   "metadata": {},
   "source": [
    "Imports"
   ]
  },
  {
   "cell_type": "code",
   "execution_count": 1,
   "id": "5a8e46d3",
   "metadata": {},
   "outputs": [],
   "source": [
    "import pandas as pd\n",
    "import numpy as np\n",
    "import statistics\n",
    "from scipy import stats\n",
    "from statsmodels.stats import proportion\n",
    "import seaborn as sns\n",
    "import matplotlib.pyplot as plt"
   ]
  },
  {
   "cell_type": "markdown",
   "id": "c68631c8",
   "metadata": {},
   "source": [
    "loading both datasets"
   ]
  },
  {
   "cell_type": "code",
   "execution_count": 2,
   "id": "f5a5627b",
   "metadata": {},
   "outputs": [],
   "source": [
    "df1 = pd.read_csv(\"../Datasets/dataset1.csv\")\n",
    "df2 = pd.read_csv(\"../Datasets/dataset2.csv\")"
   ]
  },
  {
   "cell_type": "markdown",
   "id": "c29dbfd4",
   "metadata": {},
   "source": [
    "Data Cleaning / Preparation\n",
    "\n"
   ]
  },
  {
   "cell_type": "code",
   "execution_count": 3,
   "id": "abbcb1ac",
   "metadata": {},
   "outputs": [
    {
     "name": "stdout",
     "output_type": "stream",
     "text": [
      "         start_time  bat_landing_to_food habit  rat_period_start  \\\n",
      "0  30/12/2017 18:37            16.000000   rat  30/12/2017 18:35   \n",
      "1  30/12/2017 19:51             0.074016  fast  30/12/2017 19:50   \n",
      "2  30/12/2017 19:51             4.000000  fast  30/12/2017 19:50   \n",
      "3  30/12/2017 19:52            10.000000   rat  30/12/2017 19:50   \n",
      "4  30/12/2017 19:54            15.000000   rat  30/12/2017 19:50   \n",
      "\n",
      "     rat_period_end  seconds_after_rat_arrival  risk  reward  month  \\\n",
      "0  30/12/2017 18:38                        108     1       0      0   \n",
      "1  30/12/2017 19:55                         17     0       1      0   \n",
      "2  30/12/2017 19:55                         41     0       1      0   \n",
      "3  30/12/2017 19:55                        111     1       0      0   \n",
      "4  30/12/2017 19:55                        194     1       0      0   \n",
      "\n",
      "        sunset_time  hours_after_sunset  season  \n",
      "0  30/12/2017 16:45            1.870833       0  \n",
      "1  30/12/2017 16:45            3.100833       0  \n",
      "2  30/12/2017 16:45            3.107500       0  \n",
      "3  30/12/2017 16:45            3.126944       0  \n",
      "4  30/12/2017 16:45            3.150000       0  \n"
     ]
    }
   ],
   "source": [
    "print(df1.head())\n"
   ]
  },
  {
   "cell_type": "code",
   "execution_count": 4,
   "id": "1b4a40a0",
   "metadata": {},
   "outputs": [
    {
     "name": "stdout",
     "output_type": "stream",
     "text": [
      "<class 'pandas.core.frame.DataFrame'>\n",
      "RangeIndex: 907 entries, 0 to 906\n",
      "Data columns (total 12 columns):\n",
      " #   Column                     Non-Null Count  Dtype  \n",
      "---  ------                     --------------  -----  \n",
      " 0   start_time                 907 non-null    object \n",
      " 1   bat_landing_to_food        907 non-null    float64\n",
      " 2   habit                      866 non-null    object \n",
      " 3   rat_period_start           907 non-null    object \n",
      " 4   rat_period_end             907 non-null    object \n",
      " 5   seconds_after_rat_arrival  907 non-null    int64  \n",
      " 6   risk                       907 non-null    int64  \n",
      " 7   reward                     907 non-null    int64  \n",
      " 8   month                      907 non-null    int64  \n",
      " 9   sunset_time                907 non-null    object \n",
      " 10  hours_after_sunset         907 non-null    float64\n",
      " 11  season                     907 non-null    int64  \n",
      "dtypes: float64(2), int64(5), object(5)\n",
      "memory usage: 85.2+ KB\n",
      "None\n"
     ]
    }
   ],
   "source": [
    "print(df1.info())\n"
   ]
  },
  {
   "cell_type": "code",
   "execution_count": 5,
   "id": "7db90fdf",
   "metadata": {},
   "outputs": [
    {
     "name": "stdout",
     "output_type": "stream",
     "text": [
      "<class 'pandas.core.frame.DataFrame'>\n",
      "RangeIndex: 2123 entries, 0 to 2122\n",
      "Data columns (total 7 columns):\n",
      " #   Column              Non-Null Count  Dtype  \n",
      "---  ------              --------------  -----  \n",
      " 0   time                2123 non-null   object \n",
      " 1   month               2123 non-null   int64  \n",
      " 2   hours_after_sunset  2123 non-null   float64\n",
      " 3   bat_landing_number  2123 non-null   int64  \n",
      " 4   food_availability   2123 non-null   float64\n",
      " 5   rat_minutes         2123 non-null   float64\n",
      " 6   rat_arrival_number  2123 non-null   int64  \n",
      "dtypes: float64(3), int64(3), object(1)\n",
      "memory usage: 116.2+ KB\n",
      "None\n"
     ]
    }
   ],
   "source": [
    "print(df2.info())\n"
   ]
  },
  {
   "cell_type": "code",
   "execution_count": 6,
   "id": "22709d64",
   "metadata": {},
   "outputs": [
    {
     "name": "stdout",
     "output_type": "stream",
     "text": [
      "               time  month  hours_after_sunset  bat_landing_number  \\\n",
      "0  26/12/2017 16:13      0                -0.5                  20   \n",
      "1  26/12/2017 16:43      0                 0.0                  28   \n",
      "2  26/12/2017 17:13      0                 0.5                  25   \n",
      "3  26/12/2017 17:43      0                 1.0                  71   \n",
      "4  26/12/2017 18:13      0                 1.5                  44   \n",
      "\n",
      "   food_availability  rat_minutes  rat_arrival_number  \n",
      "0           4.000000          0.0                   0  \n",
      "1           4.000000          0.0                   0  \n",
      "2           4.000000          0.0                   0  \n",
      "3           4.000000          0.0                   0  \n",
      "4           3.753857          0.0                   0  \n"
     ]
    }
   ],
   "source": [
    "print(df2.head())\n"
   ]
  },
  {
   "cell_type": "code",
   "execution_count": 7,
   "id": "b819419b",
   "metadata": {},
   "outputs": [
    {
     "name": "stdout",
     "output_type": "stream",
     "text": [
      "Null values in dataset1:\n",
      " start_time                    0\n",
      "bat_landing_to_food           0\n",
      "habit                        41\n",
      "rat_period_start              0\n",
      "rat_period_end                0\n",
      "seconds_after_rat_arrival     0\n",
      "risk                          0\n",
      "reward                        0\n",
      "month                         0\n",
      "sunset_time                   0\n",
      "hours_after_sunset            0\n",
      "season                        0\n",
      "dtype: int64\n",
      "Null values in dataset2:\n",
      " time                  0\n",
      "month                 0\n",
      "hours_after_sunset    0\n",
      "bat_landing_number    0\n",
      "food_availability     0\n",
      "rat_minutes           0\n",
      "rat_arrival_number    0\n",
      "dtype: int64\n"
     ]
    }
   ],
   "source": [
    "print(\"Null values in dataset1:\\n\", df1.isnull().sum())\n",
    "print(\"Null values in dataset2:\\n\", df2.isnull().sum())"
   ]
  },
  {
   "cell_type": "code",
   "execution_count": 8,
   "id": "0bdd365d",
   "metadata": {},
   "outputs": [],
   "source": [
    "df1 = df1.dropna()\n",
    "df2 = df2.dropna()"
   ]
  },
  {
   "cell_type": "code",
   "execution_count": 9,
   "id": "3d557379",
   "metadata": {},
   "outputs": [],
   "source": [
    "# Ensure numeric columns are floats\n",
    "numeric_cols1 = ['bat_landing_to_food', 'seconds_after_rat_arrival', 'hours_after_sunset', 'risk', 'reward']\n",
    "df1[numeric_cols1] = df1[numeric_cols1].astype(float)\n",
    "\n",
    "numeric_cols2 = ['hours_after_sunset', 'bat_landing_number', 'food_availability', 'rat_minutes', 'rat_arrival_number']\n",
    "df2[numeric_cols2] = df2[numeric_cols2].astype(float)"
   ]
  },
  {
   "cell_type": "markdown",
   "id": "c42fb707",
   "metadata": {},
   "source": [
    "\n",
    "\n",
    "Count risk-taking vs avoidance:\n"
   ]
  },
  {
   "cell_type": "code",
   "execution_count": 10,
   "id": "36507c7d",
   "metadata": {},
   "outputs": [
    {
     "name": "stdout",
     "output_type": "stream",
     "text": [
      "risk\n",
      "1.0    449\n",
      "0.0    417\n",
      "Name: count, dtype: int64\n"
     ]
    }
   ],
   "source": [
    "risk_counts = df1['risk'].value_counts()\n",
    "print(risk_counts)"
   ]
  },
  {
   "cell_type": "markdown",
   "id": "e5e8cd05",
   "metadata": {},
   "source": [
    "Proportion of avoidance:"
   ]
  },
  {
   "cell_type": "code",
   "execution_count": 11,
   "id": "a7138690",
   "metadata": {},
   "outputs": [
    {
     "name": "stdout",
     "output_type": "stream",
     "text": [
      "Avoidance rate: 0.4815242494226328\n"
     ]
    }
   ],
   "source": [
    "avoidance_rate = (df1['risk'] == 0).mean()\n",
    "print(\"Avoidance rate:\", avoidance_rate)"
   ]
  },
  {
   "cell_type": "markdown",
   "id": "da8d2e7d",
   "metadata": {},
   "source": [
    "Rewards:"
   ]
  },
  {
   "cell_type": "code",
   "execution_count": 12,
   "id": "71216749",
   "metadata": {},
   "outputs": [
    {
     "name": "stdout",
     "output_type": "stream",
     "text": [
      "Reward rate: 0.558891454965358\n"
     ]
    }
   ],
   "source": [
    "reward_rate = (df1['reward'] == 1).mean()\n",
    "print(\"Reward rate:\", reward_rate)"
   ]
  },
  {
   "cell_type": "markdown",
   "id": "10046628",
   "metadata": {},
   "source": [
    "Average delay before food (bat_landing_to_food):"
   ]
  },
  {
   "cell_type": "code",
   "execution_count": 13,
   "id": "b3b25d2a",
   "metadata": {},
   "outputs": [
    {
     "name": "stdout",
     "output_type": "stream",
     "text": [
      "Mean landing-to-food time: 11.860369096964202\n",
      "Median landing-to-food time: 4.0\n"
     ]
    }
   ],
   "source": [
    "print(\"Mean landing-to-food time:\", df1['bat_landing_to_food'].mean())\n",
    "print(\"Median landing-to-food time:\", statistics.median(df1['bat_landing_to_food']))"
   ]
  },
  {
   "cell_type": "markdown",
   "id": "9c82fa78",
   "metadata": {},
   "source": [
    "Average rat arrivals per 30 mins:"
   ]
  },
  {
   "cell_type": "code",
   "execution_count": 14,
   "id": "f85a3c30",
   "metadata": {},
   "outputs": [
    {
     "name": "stdout",
     "output_type": "stream",
     "text": [
      "Mean rat arrivals: 0.44465379180405085\n"
     ]
    }
   ],
   "source": [
    "print(\"Mean rat arrivals:\", df2['rat_arrival_number'].mean())"
   ]
  },
  {
   "cell_type": "markdown",
   "id": "b4289617",
   "metadata": {},
   "source": [
    "Relationship between rat presence and bat landings:"
   ]
  },
  {
   "cell_type": "code",
   "execution_count": 15,
   "id": "1e5514d1",
   "metadata": {},
   "outputs": [
    {
     "data": {
      "text/html": [
       "<div>\n",
       "<style scoped>\n",
       "    .dataframe tbody tr th:only-of-type {\n",
       "        vertical-align: middle;\n",
       "    }\n",
       "\n",
       "    .dataframe tbody tr th {\n",
       "        vertical-align: top;\n",
       "    }\n",
       "\n",
       "    .dataframe thead th {\n",
       "        text-align: right;\n",
       "    }\n",
       "</style>\n",
       "<table border=\"1\" class=\"dataframe\">\n",
       "  <thead>\n",
       "    <tr style=\"text-align: right;\">\n",
       "      <th>reward</th>\n",
       "      <th>0.0</th>\n",
       "      <th>1.0</th>\n",
       "    </tr>\n",
       "    <tr>\n",
       "      <th>risk</th>\n",
       "      <th></th>\n",
       "      <th></th>\n",
       "    </tr>\n",
       "  </thead>\n",
       "  <tbody>\n",
       "    <tr>\n",
       "      <th>0.0</th>\n",
       "      <td>31</td>\n",
       "      <td>386</td>\n",
       "    </tr>\n",
       "    <tr>\n",
       "      <th>1.0</th>\n",
       "      <td>351</td>\n",
       "      <td>98</td>\n",
       "    </tr>\n",
       "  </tbody>\n",
       "</table>\n",
       "</div>"
      ],
      "text/plain": [
       "reward  0.0  1.0\n",
       "risk            \n",
       "0.0      31  386\n",
       "1.0     351   98"
      ]
     },
     "execution_count": 15,
     "metadata": {},
     "output_type": "execute_result"
    }
   ],
   "source": [
    "pd.crosstab(df1['risk'], df1['reward'])"
   ]
  },
  {
   "cell_type": "markdown",
   "id": "bdc40adb",
   "metadata": {},
   "source": [
    "Proportion Test – Do bats avoid more than take risks?"
   ]
  },
  {
   "cell_type": "code",
   "execution_count": 16,
   "id": "87df7f27",
   "metadata": {},
   "outputs": [
    {
     "name": "stdout",
     "output_type": "stream",
     "text": [
      "Correlation between rat_minutes and bat_landing_number: -0.14622750084478817\n"
     ]
    }
   ],
   "source": [
    "corr = df2['rat_minutes'].corr(df2['bat_landing_number'])\n",
    "print(\"Correlation between rat_minutes and bat_landing_number:\", corr)"
   ]
  },
  {
   "cell_type": "markdown",
   "id": "6330b090",
   "metadata": {},
   "source": [
    "One-sample t-test – Is mean delay > 0 (do bats hesitate when rats around)"
   ]
  },
  {
   "cell_type": "code",
   "execution_count": 17,
   "id": "c05cd884",
   "metadata": {},
   "outputs": [
    {
     "name": "stdout",
     "output_type": "stream",
     "text": [
      "Proportion risk-taking 95% CI: 0.48519734954993826 0.5517541516047961\n"
     ]
    }
   ],
   "source": [
    "count_risk = (df1['risk'] == 1).sum()\n",
    "n = len(df1)\n",
    "ci_low, ci_high = proportion.proportion_confint(count_risk, n, alpha=0.05, method='normal')\n",
    "print(\"Proportion risk-taking 95% CI:\", ci_low, ci_high)"
   ]
  },
  {
   "cell_type": "markdown",
   "id": "a373e475",
   "metadata": {},
   "source": [
    " Two-sample t-test – Compare delay when risk-taking vs avoidance"
   ]
  },
  {
   "cell_type": "code",
   "execution_count": 18,
   "id": "c3435564",
   "metadata": {},
   "outputs": [
    {
     "name": "stdout",
     "output_type": "stream",
     "text": [
      "T-test for hesitation: 12.566213678038126 2.1935596926930074e-33\n"
     ]
    }
   ],
   "source": [
    "t_stat, p_val = stats.ttest_1samp(df1['bat_landing_to_food'], 0)\n",
    "print(\"T-test for hesitation:\", t_stat, p_val)"
   ]
  },
  {
   "cell_type": "markdown",
   "id": "2bb46244",
   "metadata": {},
   "source": [
    "Correlation Test – Rats vs Bats\n",
    "\n"
   ]
  },
  {
   "cell_type": "code",
   "execution_count": 19,
   "id": "425f8d47",
   "metadata": {},
   "outputs": [
    {
     "name": "stdout",
     "output_type": "stream",
     "text": [
      "T-test delay (risk vs avoid): 5.1398138838144325 3.5096048166276354e-07\n"
     ]
    }
   ],
   "source": [
    "delay_risk = df1[df1['risk'] == 1]['bat_landing_to_food']\n",
    "delay_avoid = df1[df1['risk'] == 0]['bat_landing_to_food']\n",
    "\n",
    "t_stat, p_val = stats.ttest_ind(delay_risk, delay_avoid, equal_var=False)\n",
    "print(\"T-test delay (risk vs avoid):\", t_stat, p_val)"
   ]
  },
  {
   "cell_type": "code",
   "execution_count": 20,
   "id": "8fccbe17",
   "metadata": {},
   "outputs": [
    {
     "name": "stdout",
     "output_type": "stream",
     "text": [
      "Pearson correlation: -0.14622750084478808 p-value: 1.2875253590006615e-11\n"
     ]
    }
   ],
   "source": [
    "corr, p_val = stats.pearsonr(df2['rat_minutes'], df2['bat_landing_number'])\n",
    "print(\"Pearson correlation:\", corr, \"p-value:\", p_val)"
   ]
  },
  {
   "cell_type": "markdown",
   "id": "1b4c444a",
   "metadata": {},
   "source": [
    "\n",
    "\n",
    "Visualization\n",
    "\n"
   ]
  },
  {
   "cell_type": "markdown",
   "id": "8997596d",
   "metadata": {},
   "source": [
    "Bat Risk vs Avoidance"
   ]
  },
  {
   "cell_type": "code",
   "execution_count": 21,
   "id": "1eb20e6b",
   "metadata": {},
   "outputs": [
    {
     "data": {
      "image/png": "[encoded data removed]",
      "text/plain": [
       "<Figure size 640x480 with 1 Axes>"
      ]
     },
     "metadata": {},
     "output_type": "display_data"
    }
   ],
   "source": [
    "import matplotlib.pyplot as plt\n",
    "\n",
    "# Risk vs Avoidance (bar chart)\n",
    "df1['risk'].value_counts().plot(\n",
    "    kind='bar',\n",
    "    title=\"Bat Risk vs Avoidance\",\n",
    "    color=['#1f77b4', '#ff7f0e']   # Blue for avoidance, Orange for risk-taking\n",
    ")\n",
    "plt.xlabel(\"Risk (0 = Avoidance, 1 = Risk-taking)\")\n",
    "plt.ylabel(\"Count\")\n",
    "plt.show()"
   ]
  },
  {
   "cell_type": "markdown",
   "id": "40df4edd",
   "metadata": {},
   "source": [
    "Correlation between Rat and Bat Activity Overtime"
   ]
  },
  {
   "cell_type": "code",
   "execution_count": 23,
   "id": "b3076f96",
   "metadata": {},
   "outputs": [
    {
     "name": "stdout",
     "output_type": "stream",
     "text": [
      "Correlation between rat arrival number and bat landing number: -0.074\n",
      "\n"
     ]
    },
    {
     "data": {
      "image/png": "[encoded data removed]",
      "text/plain": [
       "<Figure size 600x400 with 1 Axes>"
      ]
     },
     "metadata": {},
     "output_type": "display_data"
    }
   ],
   "source": [
    "# Calculate correlation\n",
    "rat_arrivals = df2[\"rat_arrival_number\"]\n",
    "bat_landings = df2[\"bat_landing_number\"]\n",
    "correlation = rat_arrivals.corr(bat_landings, method=\"pearson\")\n",
    "\n",
    "print(f\"Correlation between rat arrival number and bat landing number: {correlation:.3f}\")\n",
    "print()\n",
    "\n",
    "# Scatter plot with trend line\n",
    "plt.figure(figsize=(6, 4))\n",
    "sns.scatterplot(x=\"rat_arrival_number\", y=\"bat_landing_number\", data=df2, color=\"green\")\n",
    "sns.regplot(x=\"rat_arrival_number\", y=\"bat_landing_number\", data=df2, scatter=False, color=\"red\")\n",
    "plt.title(\"Bat Landing Number vs Rat Arrival Number\")\n",
    "plt.xlabel(\"Rat Arrival Number\")\n",
    "plt.ylabel(\"Bat Landing Number\")\n",
    "plt.show()"
   ]
  },
  {
   "cell_type": "code",
   "execution_count": null,
   "id": "76235f7d",
   "metadata": {},
   "outputs": [],
   "source": []
  }
 ],
 "metadata": {
  "kernelspec": {
   "display_name": "Python 3",
   "language": "python",
   "name": "python3"
  },
  "language_info": {
   "codemirror_mode": {
    "name": "ipython",
    "version": 3
   },
   "file_extension": ".py",
   "mimetype": "text/x-python",
   "name": "python",
   "nbconvert_exporter": "python",
   "pygments_lexer": "ipython3",
   "version": "3.13.7"
  }
 },
 "nbformat": 4,
 "nbformat_minor": 5
}
